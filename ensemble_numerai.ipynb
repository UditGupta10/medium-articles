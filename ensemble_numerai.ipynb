{
 "cells": [
  {
   "cell_type": "code",
   "execution_count": 1,
   "metadata": {
    "id": "q7uy3qkE46vH"
   },
   "outputs": [],
   "source": [
    "#!pip install pandas sklearn numerapi"
   ]
  },
  {
   "cell_type": "code",
   "execution_count": 2,
   "metadata": {
    "id": "5CIX_9AC47SA"
   },
   "outputs": [],
   "source": [
    "import numerapi\n",
    "import matplotlib.pyplot as plt\n",
    "import numpy as np\n",
    "import pandas as pd\n",
    "from tqdm import tqdm\n",
    "import multiprocessing\n",
    "import lightgbm\n",
    "import json\n",
    "from collections import Counter\n",
    "from sklearn.linear_model import Ridge\n",
    "from sklearn.ensemble import RandomForestRegressor\n",
    "from sklearn.linear_model import SGDRegressor\n",
    "from sklearn.neighbors import KNeighborsRegressor\n",
    "from sklearn.ensemble import GradientBoostingRegressor\n",
    "from sklearn.neural_network import MLPRegressor\n",
    "import warnings\n",
    "warnings.filterwarnings('ignore')\n",
    "\n",
    "napi = numerapi.NumerAPI()"
   ]
  },
  {
   "cell_type": "code",
   "execution_count": 3,
   "metadata": {
    "colab": {
     "base_uri": "https://localhost:8080/"
    },
    "id": "3zJlE8O05D7S",
    "outputId": "82d5fead-52cd-4094-8f57-f7a9c16b2d7f"
   },
   "outputs": [
    {
     "name": "stderr",
     "output_type": "stream",
     "text": [
      "2022-10-16 20:08:08,649 INFO numerapi.utils: target file already exists\n",
      "2022-10-16 20:08:08,650 INFO numerapi.utils: download complete\n",
      "2022-10-16 20:08:10,268 INFO numerapi.utils: target file already exists\n",
      "2022-10-16 20:08:10,269 INFO numerapi.utils: download complete\n",
      "2022-10-16 20:08:12,333 INFO numerapi.utils: target file already exists\n",
      "2022-10-16 20:08:12,334 INFO numerapi.utils: download complete\n"
     ]
    }
   ],
   "source": [
    "napi.download_dataset(\"v4/train_int8.parquet\", \"train_int8.parquet\")\n",
    "napi.download_dataset(\"v4/validation_int8.parquet\", \"validation_int8.parquet\")\n",
    "napi.download_dataset(\"v4/features.json\", \"features.json\")"
   ]
  },
  {
   "cell_type": "code",
   "execution_count": 4,
   "metadata": {
    "id": "qnh4seri6c0Q"
   },
   "outputs": [],
   "source": [
    "with open(\"features.json\", \"r\") as f:\n",
    "    feature_metadata = json.load(f)\n",
    "features = feature_metadata['feature_sets']['small']"
   ]
  },
  {
   "cell_type": "code",
   "execution_count": 5,
   "metadata": {
    "id": "KjEFvbnS6ALo"
   },
   "outputs": [],
   "source": [
    "train_df = pd.read_parquet('train_int8.parquet', columns=['id', 'era', 'target']+features).reset_index()\n",
    "evaluation_df = pd.read_parquet('validation_int8.parquet', columns=['id', 'era', 'target']+features).reset_index()\n",
    "\n",
    "train_df.loc[:, \"era\"] = train_df.era.astype(int)\n",
    "evaluation_df.loc[:, \"era\"] = evaluation_df.era.astype(int)"
   ]
  },
  {
   "cell_type": "code",
   "execution_count": 6,
   "metadata": {
    "id": "pZPizkAe6Gjv"
   },
   "outputs": [],
   "source": [
    "validation_df = evaluation_df.loc[lambda x: (x.era > 600) & (x.era <= 800)].reset_index(drop=True)\n",
    "test_df = evaluation_df.loc[lambda x: (x.era > 800) & (x.era <= 1000)].reset_index(drop=True)"
   ]
  },
  {
   "cell_type": "markdown",
   "metadata": {
    "id": "lFzthURc_hFo"
   },
   "source": [
    "## Train models on train set"
   ]
  },
  {
   "cell_type": "code",
   "execution_count": 7,
   "metadata": {
    "id": "OFKiZ1Jf7abW"
   },
   "outputs": [],
   "source": [
    "model_library = {'ridge': Ridge(), \n",
    "                 'randomforest100': RandomForestRegressor(n_estimators=100, max_depth=5, n_jobs=-1),\n",
    "                 'randomforest300': RandomForestRegressor(n_estimators=300, max_depth=5, n_jobs=-1),\n",
    "                 'sgd': SGDRegressor(),\n",
    "                 'boosting100': lightgbm.LGBMRegressor(n_estimators=100, max_depth=5, n_jobs=-1), \n",
    "                 'boosting300': lightgbm.LGBMRegressor(n_estimators=300, max_depth=5, n_jobs=-1), \n",
    "                 'neuralnet': MLPRegressor()}\n",
    "\n",
    "train_data_library = {i: (train_df.loc[lambda x: (x.era%4) == i]) for i in range(4)}"
   ]
  },
  {
   "cell_type": "code",
   "execution_count": 8,
   "metadata": {
    "colab": {
     "base_uri": "https://localhost:8080/"
    },
    "id": "BtuqvS5byMs2",
    "outputId": "8871102c-478e-4088-8d63-d7de6b26ec70"
   },
   "outputs": [
    {
     "name": "stdout",
     "output_type": "stream",
     "text": [
      "Completed: 1\n",
      "Completed: 2\n",
      "Completed: 3\n",
      "Completed: 4\n",
      "Completed: 5\n",
      "Completed: 6\n",
      "Completed: 7\n",
      "Completed: 8\n",
      "Completed: 9\n",
      "Completed: 10\n",
      "Completed: 11\n",
      "Completed: 12\n",
      "Completed: 13\n",
      "Completed: 14\n",
      "Completed: 15\n",
      "Completed: 16\n",
      "Completed: 17\n",
      "Completed: 18\n",
      "Completed: 19\n",
      "Completed: 20\n",
      "Completed: 21\n",
      "Completed: 22\n",
      "Completed: 23\n",
      "Completed: 24\n",
      "Completed: 25\n",
      "Completed: 26\n",
      "Completed: 27\n",
      "Completed: 28\n"
     ]
    }
   ],
   "source": [
    "#%%time\n",
    "model_predictions = {}\n",
    "counter = 0\n",
    "for model_name, model_obj in model_library.items():\n",
    "    for era, train_subset_df in train_data_library.items():\n",
    "        model_obj.fit(train_subset_df.loc[:, features], train_subset_df.target)\n",
    "        pred_hillclimb = model_obj.predict(validation_df.loc[:, features])\n",
    "        validation_df.loc[:, 'pred_{}_{}'.format(model_name, era)] = pred_hillclimb\n",
    "        pred_test = model_obj.predict(test_df.loc[:, features])\n",
    "        test_df.loc[:, 'pred_{}_{}'.format(model_name, era)] = pred_test\n",
    "        counter += 1\n",
    "        print('Completed: {}'.format(counter))"
   ]
  },
  {
   "cell_type": "code",
   "execution_count": 9,
   "metadata": {
    "id": "6oZGDviF016W"
   },
   "outputs": [
    {
     "data": {
      "text/plain": [
       "['pred_ridge_0',\n",
       " 'pred_ridge_1',\n",
       " 'pred_ridge_2',\n",
       " 'pred_ridge_3',\n",
       " 'pred_randomforest100_0',\n",
       " 'pred_randomforest100_1',\n",
       " 'pred_randomforest100_2',\n",
       " 'pred_randomforest100_3',\n",
       " 'pred_randomforest300_0',\n",
       " 'pred_randomforest300_1',\n",
       " 'pred_randomforest300_2',\n",
       " 'pred_randomforest300_3',\n",
       " 'pred_sgd_0',\n",
       " 'pred_sgd_1',\n",
       " 'pred_sgd_2',\n",
       " 'pred_sgd_3',\n",
       " 'pred_boosting100_0',\n",
       " 'pred_boosting100_1',\n",
       " 'pred_boosting100_2',\n",
       " 'pred_boosting100_3',\n",
       " 'pred_boosting300_0',\n",
       " 'pred_boosting300_1',\n",
       " 'pred_boosting300_2',\n",
       " 'pred_boosting300_3',\n",
       " 'pred_neuralnet_0',\n",
       " 'pred_neuralnet_1',\n",
       " 'pred_neuralnet_2',\n",
       " 'pred_neuralnet_3']"
      ]
     },
     "execution_count": 9,
     "metadata": {},
     "output_type": "execute_result"
    }
   ],
   "source": [
    "pred_cols = [c for c in validation_df.columns if (c.startswith('pred'))]\n",
    "(pred_cols)"
   ]
  },
  {
   "cell_type": "markdown",
   "metadata": {},
   "source": [
    "## Validation performance of individual predictions"
   ]
  },
  {
   "cell_type": "code",
   "execution_count": 10,
   "metadata": {},
   "outputs": [
    {
     "data": {
      "text/html": [
       "<div>\n",
       "<style scoped>\n",
       "    .dataframe tbody tr th:only-of-type {\n",
       "        vertical-align: middle;\n",
       "    }\n",
       "\n",
       "    .dataframe tbody tr th {\n",
       "        vertical-align: top;\n",
       "    }\n",
       "\n",
       "    .dataframe thead th {\n",
       "        text-align: right;\n",
       "    }\n",
       "</style>\n",
       "<table border=\"1\" class=\"dataframe\">\n",
       "  <thead>\n",
       "    <tr style=\"text-align: right;\">\n",
       "      <th></th>\n",
       "      <th>corr_w_target</th>\n",
       "    </tr>\n",
       "  </thead>\n",
       "  <tbody>\n",
       "    <tr>\n",
       "      <th>pred_boosting300_2</th>\n",
       "      <td>0.023665</td>\n",
       "    </tr>\n",
       "    <tr>\n",
       "      <th>pred_boosting300_0</th>\n",
       "      <td>0.023088</td>\n",
       "    </tr>\n",
       "    <tr>\n",
       "      <th>pred_boosting300_3</th>\n",
       "      <td>0.022943</td>\n",
       "    </tr>\n",
       "    <tr>\n",
       "      <th>pred_boosting100_0</th>\n",
       "      <td>0.022816</td>\n",
       "    </tr>\n",
       "    <tr>\n",
       "      <th>pred_boosting100_3</th>\n",
       "      <td>0.022517</td>\n",
       "    </tr>\n",
       "    <tr>\n",
       "      <th>pred_boosting100_2</th>\n",
       "      <td>0.022328</td>\n",
       "    </tr>\n",
       "    <tr>\n",
       "      <th>pred_boosting100_1</th>\n",
       "      <td>0.021768</td>\n",
       "    </tr>\n",
       "    <tr>\n",
       "      <th>pred_boosting300_1</th>\n",
       "      <td>0.021441</td>\n",
       "    </tr>\n",
       "    <tr>\n",
       "      <th>pred_neuralnet_1</th>\n",
       "      <td>0.020453</td>\n",
       "    </tr>\n",
       "    <tr>\n",
       "      <th>pred_neuralnet_3</th>\n",
       "      <td>0.019561</td>\n",
       "    </tr>\n",
       "    <tr>\n",
       "      <th>pred_neuralnet_2</th>\n",
       "      <td>0.018186</td>\n",
       "    </tr>\n",
       "    <tr>\n",
       "      <th>pred_neuralnet_0</th>\n",
       "      <td>0.017969</td>\n",
       "    </tr>\n",
       "    <tr>\n",
       "      <th>pred_ridge_3</th>\n",
       "      <td>0.017873</td>\n",
       "    </tr>\n",
       "    <tr>\n",
       "      <th>pred_ridge_0</th>\n",
       "      <td>0.017540</td>\n",
       "    </tr>\n",
       "    <tr>\n",
       "      <th>pred_ridge_1</th>\n",
       "      <td>0.017515</td>\n",
       "    </tr>\n",
       "    <tr>\n",
       "      <th>pred_ridge_2</th>\n",
       "      <td>0.017336</td>\n",
       "    </tr>\n",
       "    <tr>\n",
       "      <th>pred_sgd_0</th>\n",
       "      <td>0.014572</td>\n",
       "    </tr>\n",
       "    <tr>\n",
       "      <th>pred_sgd_2</th>\n",
       "      <td>0.014489</td>\n",
       "    </tr>\n",
       "    <tr>\n",
       "      <th>pred_sgd_1</th>\n",
       "      <td>0.013705</td>\n",
       "    </tr>\n",
       "    <tr>\n",
       "      <th>pred_randomforest100_1</th>\n",
       "      <td>0.011873</td>\n",
       "    </tr>\n",
       "    <tr>\n",
       "      <th>pred_randomforest300_1</th>\n",
       "      <td>0.011607</td>\n",
       "    </tr>\n",
       "    <tr>\n",
       "      <th>pred_randomforest100_0</th>\n",
       "      <td>0.011315</td>\n",
       "    </tr>\n",
       "    <tr>\n",
       "      <th>pred_randomforest300_3</th>\n",
       "      <td>0.011305</td>\n",
       "    </tr>\n",
       "    <tr>\n",
       "      <th>pred_randomforest100_2</th>\n",
       "      <td>0.011296</td>\n",
       "    </tr>\n",
       "    <tr>\n",
       "      <th>pred_randomforest300_0</th>\n",
       "      <td>0.011264</td>\n",
       "    </tr>\n",
       "    <tr>\n",
       "      <th>pred_randomforest100_3</th>\n",
       "      <td>0.011251</td>\n",
       "    </tr>\n",
       "    <tr>\n",
       "      <th>pred_randomforest300_2</th>\n",
       "      <td>0.011096</td>\n",
       "    </tr>\n",
       "    <tr>\n",
       "      <th>pred_sgd_3</th>\n",
       "      <td>0.009204</td>\n",
       "    </tr>\n",
       "  </tbody>\n",
       "</table>\n",
       "</div>"
      ],
      "text/plain": [
       "                        corr_w_target\n",
       "pred_boosting300_2           0.023665\n",
       "pred_boosting300_0           0.023088\n",
       "pred_boosting300_3           0.022943\n",
       "pred_boosting100_0           0.022816\n",
       "pred_boosting100_3           0.022517\n",
       "pred_boosting100_2           0.022328\n",
       "pred_boosting100_1           0.021768\n",
       "pred_boosting300_1           0.021441\n",
       "pred_neuralnet_1             0.020453\n",
       "pred_neuralnet_3             0.019561\n",
       "pred_neuralnet_2             0.018186\n",
       "pred_neuralnet_0             0.017969\n",
       "pred_ridge_3                 0.017873\n",
       "pred_ridge_0                 0.017540\n",
       "pred_ridge_1                 0.017515\n",
       "pred_ridge_2                 0.017336\n",
       "pred_sgd_0                   0.014572\n",
       "pred_sgd_2                   0.014489\n",
       "pred_sgd_1                   0.013705\n",
       "pred_randomforest100_1       0.011873\n",
       "pred_randomforest300_1       0.011607\n",
       "pred_randomforest100_0       0.011315\n",
       "pred_randomforest300_3       0.011305\n",
       "pred_randomforest100_2       0.011296\n",
       "pred_randomforest300_0       0.011264\n",
       "pred_randomforest100_3       0.011251\n",
       "pred_randomforest300_2       0.011096\n",
       "pred_sgd_3                   0.009204"
      ]
     },
     "execution_count": 10,
     "metadata": {},
     "output_type": "execute_result"
    }
   ],
   "source": [
    "## Print Correlation performance of each prediction\n",
    "validation_perf_dict = {}\n",
    "for pred in pred_cols:\n",
    "    corr_mean_across_eras = validation_df.groupby('era').apply(lambda df: df[pred].corr(df['target'], method='spearman')).mean()\n",
    "    validation_perf_dict[pred] = corr_mean_across_eras\n",
    "\n",
    "validation_perf_df = pd.DataFrame.from_dict(validation_perf_dict, orient='index', columns=['corr_w_target'])\n",
    "validation_perf_df.sort_values(by='corr_w_target', ascending=False)"
   ]
  },
  {
   "cell_type": "markdown",
   "metadata": {},
   "source": [
    "## Ensemble by Forward Selection"
   ]
  },
  {
   "cell_type": "code",
   "execution_count": 21,
   "metadata": {},
   "outputs": [
    {
     "name": "stdout",
     "output_type": "stream",
     "text": [
      "ensemble_score: 0.023664808137005697, added_col: pred_boosting300_2\n",
      "ensemble_score: 0.024952460487018838, added_col: pred_boosting300_0\n",
      "ensemble_score: 0.025177584118833057, added_col: pred_boosting300_3\n",
      "ensemble_score: 0.025559504634132226, added_col: pred_sgd_0\n",
      "ensemble_score: 0.02581686338766487, added_col: pred_boosting300_2\n",
      "ensemble_score: 0.02585506955990696, added_col: pred_boosting300_0\n",
      "ensemble_score: 0.025868786177456204, added_col: pred_boosting300_2\n",
      "ensemble_score: 0.025893105846187706, added_col: pred_sgd_2\n",
      "ensemble_score: 0.02591868092725079, added_col: pred_boosting300_3\n",
      "ensemble_score: 0.025931658541080677, added_col: pred_boosting300_2\n",
      "ensemble_score: 0.0259476288957518, added_col: pred_boosting300_0\n",
      "ensemble_score: 0.025971243820355504, added_col: pred_neuralnet_1\n",
      "CPU times: user 2min 9s, sys: 22.5 s, total: 2min 31s\n",
      "Wall time: 2min 32s\n"
     ]
    }
   ],
   "source": [
    "%%time\n",
    "max_num_preds_in_ensemble = 12\n",
    "best_score_global = -100\n",
    "added_preds_list = []\n",
    "for i in range(max_num_preds_in_ensemble):\n",
    "    best_performer = (-100, '')\n",
    "    if len(added_preds_list) == 0:\n",
    "        curr_ensemble_sum = pd.Series([0]*len(validation_df), dtype='float')\n",
    "    else:\n",
    "        curr_ensemble_sum = validation_df.loc[:, added_preds_list].sum(axis=1)\n",
    "    for pred_col in pred_cols:\n",
    "        extended_ensemble_sum = curr_ensemble_sum + validation_df.loc[:, pred_col]\n",
    "        extended_ensemble_avg = extended_ensemble_sum / (len(added_preds_list)+1.0)\n",
    "        validation_df.loc[:, 'ensemble'] = extended_ensemble_avg\n",
    "        corr_mean_across_eras = validation_df.groupby('era').apply(lambda df: df['ensemble'].corr(df['target'], method='spearman')).mean()\n",
    "        if corr_mean_across_eras > best_performer[0]:\n",
    "            best_performer = (corr_mean_across_eras, pred_col)\n",
    "    print(\"ensemble_score: {}, added_col: {}\".format(best_performer[0], \n",
    "                                                    best_performer[1]))\n",
    "    if best_performer[0] > (best_score_global - 1e-6):\n",
    "        best_score_global = best_performer[0]\n",
    "    else:\n",
    "        break\n",
    "    added_preds_list.append(best_performer[1])"
   ]
  },
  {
   "cell_type": "code",
   "execution_count": 31,
   "metadata": {},
   "outputs": [
    {
     "data": {
      "image/png": "[encoded data removed]",
      "text/plain": [
       "<Figure size 576x576 with 1 Axes>"
      ]
     },
     "metadata": {
      "needs_background": "light"
     },
     "output_type": "display_data"
    }
   ],
   "source": [
    "fig, ax = plt.subplots(1,1, figsize=(8,8))\n",
    "\n",
    "best_individual_preds = validation_perf_df.sort_values(by='corr_w_target', ascending=False).iloc[:5].index\n",
    "\n",
    "for pred in best_individual_preds:\n",
    "    corr_perf = validation_df.groupby('era').apply(lambda df: df[pred].corr(df['target'], method='spearman'))\n",
    "    ax.plot(corr_perf.cumsum(), label = pred)\n",
    "\n",
    "ensemble_perf = validation_df.groupby('era').apply(lambda df: df['ensemble'].corr(df['target'], method='spearman'))\n",
    "ax.plot(ensemble_perf.cumsum(), label='ensemble')\n",
    "ax.set_title('Validation Performance (cumulative)')\n",
    "ax.set_xlabel('era')\n",
    "ax.set_ylabel('cumulative correlation with target')\n",
    "ax.legend()\n",
    "ax.grid()"
   ]
  },
  {
   "cell_type": "markdown",
   "metadata": {},
   "source": [
    "#### Observation: Ensemble performance is better than any of the individual predictions"
   ]
  },
  {
   "cell_type": "code",
   "execution_count": 23,
   "metadata": {},
   "outputs": [
    {
     "data": {
      "text/plain": [
       "Counter({'pred_boosting300_2': 4,\n",
       "         'pred_boosting300_0': 3,\n",
       "         'pred_boosting300_3': 2,\n",
       "         'pred_sgd_0': 1,\n",
       "         'pred_sgd_2': 1,\n",
       "         'pred_neuralnet_1': 1})"
      ]
     },
     "execution_count": 23,
     "metadata": {},
     "output_type": "execute_result"
    }
   ],
   "source": [
    "# Weights of predictions in final ensemble\n",
    "ensemble_weights_dict = Counter()\n",
    "ensemble_weights_dict.update(added_preds_list)\n",
    "ensemble_weights_dict"
   ]
  },
  {
   "cell_type": "markdown",
   "metadata": {},
   "source": [
    "## Test Performance of individual predictions"
   ]
  },
  {
   "cell_type": "code",
   "execution_count": 24,
   "metadata": {},
   "outputs": [
    {
     "data": {
      "text/html": [
       "<div>\n",
       "<style scoped>\n",
       "    .dataframe tbody tr th:only-of-type {\n",
       "        vertical-align: middle;\n",
       "    }\n",
       "\n",
       "    .dataframe tbody tr th {\n",
       "        vertical-align: top;\n",
       "    }\n",
       "\n",
       "    .dataframe thead th {\n",
       "        text-align: right;\n",
       "    }\n",
       "</style>\n",
       "<table border=\"1\" class=\"dataframe\">\n",
       "  <thead>\n",
       "    <tr style=\"text-align: right;\">\n",
       "      <th></th>\n",
       "      <th>corr_w_target</th>\n",
       "    </tr>\n",
       "  </thead>\n",
       "  <tbody>\n",
       "    <tr>\n",
       "      <th>pred_boosting300_2</th>\n",
       "      <td>0.015229</td>\n",
       "    </tr>\n",
       "    <tr>\n",
       "      <th>pred_boosting300_3</th>\n",
       "      <td>0.015083</td>\n",
       "    </tr>\n",
       "    <tr>\n",
       "      <th>pred_boosting100_1</th>\n",
       "      <td>0.015076</td>\n",
       "    </tr>\n",
       "    <tr>\n",
       "      <th>pred_boosting100_2</th>\n",
       "      <td>0.014957</td>\n",
       "    </tr>\n",
       "    <tr>\n",
       "      <th>pred_boosting300_1</th>\n",
       "      <td>0.014944</td>\n",
       "    </tr>\n",
       "    <tr>\n",
       "      <th>pred_boosting100_3</th>\n",
       "      <td>0.014837</td>\n",
       "    </tr>\n",
       "    <tr>\n",
       "      <th>pred_boosting100_0</th>\n",
       "      <td>0.014705</td>\n",
       "    </tr>\n",
       "    <tr>\n",
       "      <th>pred_boosting300_0</th>\n",
       "      <td>0.014188</td>\n",
       "    </tr>\n",
       "    <tr>\n",
       "      <th>pred_neuralnet_3</th>\n",
       "      <td>0.013233</td>\n",
       "    </tr>\n",
       "    <tr>\n",
       "      <th>pred_neuralnet_1</th>\n",
       "      <td>0.012885</td>\n",
       "    </tr>\n",
       "    <tr>\n",
       "      <th>pred_neuralnet_2</th>\n",
       "      <td>0.010251</td>\n",
       "    </tr>\n",
       "    <tr>\n",
       "      <th>pred_neuralnet_0</th>\n",
       "      <td>0.009929</td>\n",
       "    </tr>\n",
       "    <tr>\n",
       "      <th>pred_randomforest300_3</th>\n",
       "      <td>0.009242</td>\n",
       "    </tr>\n",
       "    <tr>\n",
       "      <th>pred_randomforest300_0</th>\n",
       "      <td>0.009239</td>\n",
       "    </tr>\n",
       "    <tr>\n",
       "      <th>pred_randomforest100_0</th>\n",
       "      <td>0.009089</td>\n",
       "    </tr>\n",
       "    <tr>\n",
       "      <th>pred_randomforest100_3</th>\n",
       "      <td>0.009036</td>\n",
       "    </tr>\n",
       "    <tr>\n",
       "      <th>pred_randomforest100_2</th>\n",
       "      <td>0.008936</td>\n",
       "    </tr>\n",
       "    <tr>\n",
       "      <th>pred_randomforest300_2</th>\n",
       "      <td>0.008878</td>\n",
       "    </tr>\n",
       "    <tr>\n",
       "      <th>pred_sgd_2</th>\n",
       "      <td>0.008664</td>\n",
       "    </tr>\n",
       "    <tr>\n",
       "      <th>pred_ridge_3</th>\n",
       "      <td>0.008563</td>\n",
       "    </tr>\n",
       "    <tr>\n",
       "      <th>pred_ridge_1</th>\n",
       "      <td>0.008546</td>\n",
       "    </tr>\n",
       "    <tr>\n",
       "      <th>pred_ridge_0</th>\n",
       "      <td>0.008450</td>\n",
       "    </tr>\n",
       "    <tr>\n",
       "      <th>pred_ridge_2</th>\n",
       "      <td>0.008403</td>\n",
       "    </tr>\n",
       "    <tr>\n",
       "      <th>pred_randomforest100_1</th>\n",
       "      <td>0.007972</td>\n",
       "    </tr>\n",
       "    <tr>\n",
       "      <th>pred_randomforest300_1</th>\n",
       "      <td>0.007710</td>\n",
       "    </tr>\n",
       "    <tr>\n",
       "      <th>pred_sgd_1</th>\n",
       "      <td>0.007360</td>\n",
       "    </tr>\n",
       "    <tr>\n",
       "      <th>pred_sgd_0</th>\n",
       "      <td>0.006906</td>\n",
       "    </tr>\n",
       "    <tr>\n",
       "      <th>pred_sgd_3</th>\n",
       "      <td>0.002862</td>\n",
       "    </tr>\n",
       "  </tbody>\n",
       "</table>\n",
       "</div>"
      ],
      "text/plain": [
       "                        corr_w_target\n",
       "pred_boosting300_2           0.015229\n",
       "pred_boosting300_3           0.015083\n",
       "pred_boosting100_1           0.015076\n",
       "pred_boosting100_2           0.014957\n",
       "pred_boosting300_1           0.014944\n",
       "pred_boosting100_3           0.014837\n",
       "pred_boosting100_0           0.014705\n",
       "pred_boosting300_0           0.014188\n",
       "pred_neuralnet_3             0.013233\n",
       "pred_neuralnet_1             0.012885\n",
       "pred_neuralnet_2             0.010251\n",
       "pred_neuralnet_0             0.009929\n",
       "pred_randomforest300_3       0.009242\n",
       "pred_randomforest300_0       0.009239\n",
       "pred_randomforest100_0       0.009089\n",
       "pred_randomforest100_3       0.009036\n",
       "pred_randomforest100_2       0.008936\n",
       "pred_randomforest300_2       0.008878\n",
       "pred_sgd_2                   0.008664\n",
       "pred_ridge_3                 0.008563\n",
       "pred_ridge_1                 0.008546\n",
       "pred_ridge_0                 0.008450\n",
       "pred_ridge_2                 0.008403\n",
       "pred_randomforest100_1       0.007972\n",
       "pred_randomforest300_1       0.007710\n",
       "pred_sgd_1                   0.007360\n",
       "pred_sgd_0                   0.006906\n",
       "pred_sgd_3                   0.002862"
      ]
     },
     "execution_count": 24,
     "metadata": {},
     "output_type": "execute_result"
    }
   ],
   "source": [
    "## Print Correlation performance of each prediction\n",
    "test_perf_dict = {}\n",
    "for pred in pred_cols:\n",
    "    corr_mean_across_eras = test_df.groupby('era').apply(lambda df: df[pred].corr(df['target'], method='spearman')).mean()\n",
    "    test_perf_dict[pred] = corr_mean_across_eras\n",
    "\n",
    "test_perf_df = pd.DataFrame.from_dict(test_perf_dict, orient='index', columns=['corr_w_target'])\n",
    "test_perf_df.sort_values(by='corr_w_target', ascending=False)"
   ]
  },
  {
   "cell_type": "markdown",
   "metadata": {},
   "source": [
    "## Ensemble Performance on Test df"
   ]
  },
  {
   "cell_type": "code",
   "execution_count": 25,
   "metadata": {},
   "outputs": [],
   "source": [
    "test_ensemble_sum = pd.Series([0]*len(test_df), dtype='float')\n",
    "for pred in pred_cols:\n",
    "    if pred not in ensemble_weights_dict.keys():\n",
    "        continue\n",
    "    test_ensemble_sum += (test_df.loc[:, pred] * ensemble_weights_dict[pred])\n",
    "\n",
    "test_ensemble_avg = test_ensemble_sum / sum(ensemble_weights_dict.values())\n",
    "test_df.loc[:, 'ensemble'] = test_ensemble_avg"
   ]
  },
  {
   "cell_type": "code",
   "execution_count": 27,
   "metadata": {},
   "outputs": [
    {
     "data": {
      "text/plain": [
       "0.015904463019279554"
      ]
     },
     "execution_count": 27,
     "metadata": {},
     "output_type": "execute_result"
    }
   ],
   "source": [
    "test_corr_ensemble = test_df.groupby('era').apply(lambda df: df['ensemble'].corr(df['target'], method='spearman'))\n",
    "test_corr_ensemble.mean()"
   ]
  },
  {
   "cell_type": "markdown",
   "metadata": {},
   "source": [
    "## Comparison of Ensemble Performance with Individual predictions"
   ]
  },
  {
   "cell_type": "code",
   "execution_count": 29,
   "metadata": {},
   "outputs": [
    {
     "data": {
      "image/png": "[encoded data removed]",
      "text/plain": [
       "<Figure size 576x576 with 1 Axes>"
      ]
     },
     "metadata": {
      "needs_background": "light"
     },
     "output_type": "display_data"
    }
   ],
   "source": [
    "fig, ax = plt.subplots(1,1, figsize=(8,8))\n",
    "\n",
    "best_individual_preds = test_perf_df.sort_values(by='corr_w_target', ascending=False).iloc[:5].index\n",
    "\n",
    "for pred in best_individual_preds:\n",
    "    corr_perf = test_df.groupby('era').apply(lambda df: df[pred].corr(df['target'], method='spearman'))\n",
    "    ax.plot(corr_perf.cumsum(), label = pred)\n",
    "\n",
    "ensemble_perf = test_df.groupby('era').apply(lambda df: df['ensemble'].corr(df['target'], method='spearman'))\n",
    "ax.plot(ensemble_perf.cumsum(), label='ensemble')\n",
    "ax.set_title('Test Performance (cumulative)')\n",
    "ax.set_xlabel('era')\n",
    "ax.set_ylabel('cumulative correlation with target')\n",
    "ax.legend()\n",
    "ax.grid()"
   ]
  }
 ],
 "metadata": {
  "colab": {
   "provenance": []
  },
  "kernelspec": {
   "display_name": "Python 3 (ipykernel)",
   "language": "python",
   "name": "python3"
  },
  "language_info": {
   "codemirror_mode": {
    "name": "ipython",
    "version": 3
   },
   "file_extension": ".py",
   "mimetype": "text/x-python",
   "name": "python",
   "nbconvert_exporter": "python",
   "pygments_lexer": "ipython3",
   "version": "3.8.11"
  }
 },
 "nbformat": 4,
 "nbformat_minor": 1
}
